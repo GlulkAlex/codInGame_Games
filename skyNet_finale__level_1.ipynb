{
 "cells": [
  {
   "cell_type": "code",
   "execution_count": 1,
   "metadata": {
    "collapsed": false
   },
   "outputs": [
    {
     "data": {
      "text/plain": [
       "'skynet finale - level 1'"
      ]
     },
     "execution_count": 1,
     "metadata": {},
     "output_type": "execute_result"
    }
   ],
   "source": [
    "challengeName = \"SKYNET FINALE - LEVEL 1\"\n",
    "challengeName.casefold()"
   ]
  },
  {
   "cell_type": "code",
   "execution_count": 2,
   "metadata": {
    "collapsed": false
   },
   "outputs": [
    {
     "data": {
      "text/plain": [
       "'skynet finale - level 1'"
      ]
     },
     "execution_count": 2,
     "metadata": {},
     "output_type": "execute_result"
    }
   ],
   "source": [
    "challengeName.lower()"
   ]
  },
  {
   "cell_type": "markdown",
   "metadata": {},
   "source": [
    "The program:\n",
    "===\n",
    "Your `virus` has caused \n",
    "a `backdoor` \n",
    "to open on the `Skynet` network \n",
    "enabling you to \n",
    "send new instructions in real time.\n",
    "\n",
    "You decide \n",
    "to take action \n",
    "by stopping `Skynet` \n",
    "from communicating on its own internal network.\n",
    "\n",
    "**Skynet's network** is \n",
    "divided into several smaller network, \n",
    "in each _sub-network_ is \n",
    "a `Skynet agent` tasked with \n",
    "transfering information \n",
    "by moving from `node` to `node` \n",
    "along links and \n",
    "accessing `gateways` leading to other _sub-networks_.\n",
    "\n",
    "Your **mission** is \n",
    "to reprogram the `virus` so \n",
    "it will `sever` `links` in such a way that \n",
    "the `Skynet Agent` is \n",
    "unable to access another _sub-network_ \n",
    "thus \n",
    "preventing information \n",
    "concerning the presence of our `virus` to \n",
    "reach **Skynet's** _central hub_.\n",
    "\n",
    "For each `test` you are given:  \n",
    "- A `map` of the _network_.\n",
    "- The position of the `exit gateways`.\n",
    "- The starting position of the `Skynet agent`.\n",
    ">>> Nodes can only be connected to up to a single gatweway. <<<\n",
    "\n",
    "Each game `turn`:\n",
    "* First off, \n",
    "you _sever_ one of the given `links` in the _network_.\n",
    "* Then \n",
    "the `Skynet agent` _moves_ from one **Node** to \n",
    "another accessible **Node**.  \n",
    "\n",
    "The **_game_** is _over_ when:  \n",
    "- The `Skynet agent` cannot \n",
    "reach an `exit gateway`: \n",
    "_mission_ **successfully completed** :)\n",
    "- The `Skynet agent` has reached a gateway: \n",
    "_mission_ **failed** :(\n",
    "\n",
    "|`Skynet agent`|`Gateway`|\n",
    "|---:|:---|"
   ]
  },
  {
   "cell_type": "code",
   "execution_count": null,
   "metadata": {
    "collapsed": true
   },
   "outputs": [],
   "source": [
    "\"\"\"Example:\"\"\"\n",
    "# INITIALIZATION INPUT (OUT OF THE INFINITE LOOP)\n",
    "# (N L E)\n",
    "#n, l , e = '4 4 1'\n",
    "# 4 NODES, 4 LINKS, 1 GATEWAY\n",
    "# edges\n",
    "#(N1 N2)\n",
    "#(N1 N2)\n",
    "#(N1 N2)\n",
    "#(N1 N2)\n",
    "\"\"\"\\\n",
    "0 1\n",
    "0 2\n",
    "1 3\n",
    "2 3\\\n",
    "\"\"\"\n",
    "#(EI)\n",
    "'3'\n",
    "# NO OUTPUT EXPECTED\n",
    "pass"
   ]
  },
  {
   "cell_type": "code",
   "execution_count": 54,
   "metadata": {
    "collapsed": true
   },
   "outputs": [],
   "source": [
    "\"\"\"The program must \n",
    "first \n",
    "read the initialization data from standard input. \n",
    "Then, \n",
    "within an infinite loop, \n",
    "read the data from the standard input \n",
    "related to \n",
    "the current `state` of the `Skynet agent` and \n",
    "provide to the standard output the next instruction.\n",
    "\n",
    "The tests provided are \n",
    "similar to \n",
    "the validation tests used to compute the final score \n",
    "but remain different.\"\"\"\n",
    "pass"
   ]
  },
  {
   "cell_type": "code",
   "execution_count": 55,
   "metadata": {
    "collapsed": true
   },
   "outputs": [],
   "source": [
    "\"\"\"INITIALIZATION INPUT:\n",
    "Line 1: 3 integers N L E\n",
    "N, the total number of `nodes` in the level, \n",
    "including the `gateways`.\n",
    "L, the number of `links`(edges) in the level.\n",
    "E, the number of `exit gateways` in the level.\n",
    "Next 'L' lines: \n",
    "2 integers per line \n",
    "(N1, N2), indicating \n",
    "a `link` between \n",
    "the nodes indexed 'N1' and 'N2' in the network.\n",
    "Next 'E' lines: \n",
    "'1' integer 'EI' representing \n",
    "the 'index' of a `gateway node`.\n",
    "INPUT FOR ONE GAME TURN:\n",
    "Line 1: '1' integer 'SI'.\n",
    "'SI', is \n",
    "the `index` of \n",
    "the `node` on which \n",
    "the `Skynet agent` is positioned this `turn`\n",
    "OUTPUT FOR ONE GAME TURN:\n",
    "A single line \n",
    "comprised of two integers \n",
    "'C1' and 'C2' seperated by a space. \n",
    "'C1' and 'C2' (edge / link) are \n",
    "the `indices` of the `nodes` \n",
    "you wish to `sever` the `link` between.\n",
    "CONSTRAINTS:\n",
    "2 ≤ N ≤ 500\n",
    "1 ≤ L ≤ 1000\n",
    "1 ≤ E ≤ 20\n",
    "0 ≤ N1, N2 < N\n",
    "0 ≤ SI < N\n",
    "0 ≤ C1, C2 < N\n",
    "Response time per turn ≤ 150ms\"\"\"\n",
    "pass"
   ]
  },
  {
   "cell_type": "code",
   "execution_count": 2,
   "metadata": {
    "collapsed": false
   },
   "outputs": [
    {
     "data": {
      "text/plain": [
       "['4', '4', '1']"
      ]
     },
     "execution_count": 2,
     "metadata": {},
     "output_type": "execute_result"
    }
   ],
   "source": [
    "'4 4 1'.split()"
   ]
  },
  {
   "cell_type": "code",
   "execution_count": 6,
   "metadata": {
    "collapsed": false
   },
   "outputs": [
    {
     "data": {
      "text/plain": [
       "True"
      ]
     },
     "execution_count": 6,
     "metadata": {},
     "output_type": "execute_result"
    }
   ],
   "source": [
    "listType = list\n",
    "type(list()) == listType"
   ]
  },
  {
   "cell_type": "code",
   "execution_count": 7,
   "metadata": {
    "collapsed": false
   },
   "outputs": [
    {
     "data": {
      "text/plain": [
       "list"
      ]
     },
     "execution_count": 7,
     "metadata": {},
     "output_type": "execute_result"
    }
   ],
   "source": [
    "listType"
   ]
  },
  {
   "cell_type": "code",
   "execution_count": 60,
   "metadata": {
    "collapsed": true
   },
   "outputs": [],
   "source": [
    "\"\"\"Debug messages...\n",
    "    len(edgesList):2\n",
    "    edgesList:[(1, 2), (1, 0)]\n",
    "    virus.gNodes:[0, 1, 2]\n",
    "    gatewayNodesList:[2]\n",
    "    e:1\n",
    "    gAdjustedListMap:{1: [2, 0]}\"\"\"\n",
    "pass"
   ]
  },
  {
   "cell_type": "code",
   "execution_count": null,
   "metadata": {
    "collapsed": true
   },
   "outputs": [],
   "source": [
    "# test 3 data\n",
    "\"\"\"Debug messages...\n",
    "    len(edgesList):23\n",
    "    edgesList:[\n",
    "    (11, 6), (0, 9), (1, 2), (0, 1), (10, 1), (11, 5), \n",
    "    (2, 3), (4, 5), (8, 9), (6, 7), (7, 8), (0, 6), \n",
    "    (3, 4), (0, 2), (11, 7), (0, 8), (0, 4), (9, 10), \n",
    "    (0, 5), (0, 7), (0, 3), (0, 10), (5, 6)]\n",
    "    virus.gNodes:[0, 1, 2, 3, 4, 5, 6, 7, 8, 9, 10, 11]\n",
    "    gatewayNodesList:[0]\n",
    "    e:1\n",
    "    gAdjustedListMap:{\n",
    "    0: [9, 1, 6, 2, 8, 4, 5, 7, 3, 10], 1: [2, None, None], 2: [3, None], \n",
    "    3: [4, None], 4: [5, None, None], 5: [6], \n",
    "    6: [7, None, None], 7: [8, None, None], 8: [9, None, None], \n",
    "    9: [10], 10: [1, None, None], 11: [6, 5, 7]}\n",
    "    gListMapReverse:{\n",
    "    0: [], 1: [10], 2: [1, None, 0], \n",
    "    3: [2, None, 0], 4: [3, 0], 5: [11, 4, 0, None], \n",
    "    6: [11, None, 0, 5], 7: [6, None, 11, 0], 8: [7, 0], \n",
    "    9: [8, None], 10: [9, 0], 11: []}\"\"\"\n",
    "pass"
   ]
  },
  {
   "cell_type": "code",
   "execution_count": 33,
   "metadata": {
    "collapsed": false
   },
   "outputs": [],
   "source": [
    "import sys\n",
    "import math\n",
    "\n",
    "import random\n",
    "\n",
    "# (sourceN, sinkN)    \n",
    "edgesList = []\n",
    "gatewayNodesList = []  \n",
    "edgesStr = \\\n",
    "\"\"\"\\\n",
    "0 1\n",
    "0 2\n",
    "1 3\n",
    "2 3\\\n",
    "\"\"\"\n",
    "\n",
    "# Auto-generated code below aims at helping you parse\n",
    "# the standard input according to the problem statement.\n",
    "\n",
    "# n: the total number of `nodes` in the level, \n",
    "# including the `gateways`\n",
    "# l: the number of `links`\n",
    "# e: the number of `exit gateways`\n",
    "n, l, e = \\\n",
    "[int(elem) for elem in '4 4 1'.split()]\n",
    "#[int(i) for i in input().split()]\n",
    "\n",
    "#for i in range(l):\n",
    "    # n1: 'N1' and 'N2' defines \n",
    "    # a `link` between these `nodes`\n",
    "    #n1, n2 = \\\n",
    "    #[int(j) for j in input().split()]\n",
    "    \n",
    "    #edgesList.append( (n1, n2) )\n",
    "    \n",
    "sourceNodeAccum = None\n",
    "# iterate traversable once iterator\n",
    "for (nodeIndx, node) in enumerate(edgesStr.split()):\n",
    "    if nodeIndx % 2 == 0:\n",
    "        sourceNodeAccum = int(node)\n",
    "    else:\n",
    "        edgesList.append( (sourceNodeAccum, int(node) ) )  \n",
    "              \n",
    "for i in range(e):\n",
    "    # the `index` of a `gateway` `node`\n",
    "    ei = \\\n",
    "    int('3')\n",
    "    #int(input()) \n",
    "    gatewayNodesList.append( ei )\n",
    "\n",
    "###*** my code: start ***### \n",
    "counter = 0\n",
    "turnLimit = 10\n",
    "condition = counter < turnLimit\n",
    "positionsOfSkyNetAgentList = [\n",
    "    0, 2\n",
    "]\n",
    "\n",
    "# assume (from tests input)\n",
    "# that\n",
    "# edges are arcs\n",
    "# so\n",
    "# graph - directed\n",
    "# singleton\n",
    "class subNetworkGraph:\n",
    "    # if declared here\n",
    "    # then common to \n",
    "    # all class objects / instances\n",
    "    gNodes = []\n",
    "    gEdges = []\n",
    "    #{int: list(int)} or\n",
    "    #{int: sett(int)}\n",
    "    # (directed) graph\n",
    "    gAdjustedListMap = {}\n",
    "    # Transpose (directed) graph\n",
    "    # the reversal of a graph\n",
    "    gListMapReverse = {}\n",
    "    \n",
    "    def __init__(self, \n",
    "                 edgesList: list):\n",
    "        self.gEdges = edgesList\n",
    "        self.makeAdjustedList( edgesList = edgesList )\n",
    "    \n",
    "    ###*** helper method ***###\n",
    "    # edit / add / update mapping type, \n",
    "    # the `dictionary`.\n",
    "    def hashMapUpdate(self,\n",
    "        # collection of pairs \n",
    "        # 'str->set' or 'int->list'\n",
    "        mapDict: dict, \n",
    "        # string\n",
    "        key: int, #str,\n",
    "        # may be 'set'\n",
    "        # 'None' for empty container              \n",
    "        value: list, #set,\n",
    "        # just `type` `list` \n",
    "        valueType = list\n",
    "    ) -> dict:\n",
    "        \"\"\"hashMapUpdate.\n",
    "\n",
    "        update existing `map` `value` or\n",
    "        add new element as 'key->value' `pair` \"\"\"\n",
    "\n",
    "        # reference to 'map' `value`\n",
    "        mapVal = mapDict.get(key)  \n",
    "        # != None\n",
    "        if mapVal:    \n",
    "            # change existing value\n",
    "            # add current `read` to `set`\n",
    "            if type(mapVal) is set:\n",
    "                mapVal.add(value)\n",
    "            elif type(mapVal) is list:\n",
    "                # does not check for duplicates\n",
    "                if mapVal:\n",
    "                    #if value is not None:\n",
    "                    if value:\n",
    "                        mapVal.append(value)\n",
    "\n",
    "            #assert type(mapVal) == set\n",
    "\n",
    "            #mapDict[key] = mapVal\n",
    "        else:  \n",
    "            # add new element with 'key->value'\n",
    "            if valueType is set:\n",
    "                mapDict[key] = set([value])\n",
    "            elif valueType is list:\n",
    "                #if value is not None:\n",
    "                if value:\n",
    "                    mapDict[key] = list([value])            \n",
    "                else:\n",
    "                    # default empty container\n",
    "                    mapDict[key] = list() \n",
    "                    \n",
    "        # may be used as side effect only\n",
    "        # no assigment requered\n",
    "        return mapDict \n",
    "\n",
    "    # miss 'sinkNodes' that\n",
    "    # do not have adjusted / arcs\n",
    "    def makeAdjustedList(self, \n",
    "                 edgesList: list) -> (list, dict):\n",
    "        gNodesSet = set()\n",
    "        self.gAdjustedListMap.clear()\n",
    "        self.gNodes.clear()\n",
    "        \n",
    "        for sourceNode, sinkNode in edgesList:\n",
    "            self.hashMapUpdate(\n",
    "                mapDict = self.gAdjustedListMap, \n",
    "                key = sourceNode,\n",
    "                value = sinkNode\n",
    "            )\n",
    "            self.hashMapUpdate(\n",
    "                mapDict = self.gAdjustedListMap, \n",
    "                key = sinkNode,\n",
    "                value = None\n",
    "            )\n",
    "            # the `reversal` of a `graph`            \n",
    "            self.hashMapUpdate(\n",
    "                mapDict = self.gListMapReverse, \n",
    "                key = sinkNode,\n",
    "                value = sourceNode\n",
    "            )\n",
    "            self.hashMapUpdate(\n",
    "                mapDict = self.gListMapReverse, \n",
    "                key = sourceNode,\n",
    "                value = None\n",
    "            )\n",
    "            \n",
    "            gNodesSet.add(sourceNode)                \n",
    "            gNodesSet.add(sinkNode)\n",
    "        \n",
    "        self.gNodes = list(gNodesSet)\n",
    "                        \n",
    "        return self.gNodes, self.gAdjustedListMap, gNodesSet\n",
    "    \n",
    "    # make it iterative, instead of recursive\n",
    "    def closestGateFromAgent(self,\n",
    "                            agentNode: int) -> int:\n",
    "        unExploredNodes = set(self.gNodes)\n",
    "        exploredNodes = set(agentNode)\n",
    "        unExploredNodes.discard(agentNode)\n",
    "        #exploredNodes.add(agentNode)\n",
    "        nextNode = agentNode #None\n",
    "        backTraceList = []\n",
    "        \n",
    "        while len(unExploredNodes) > 0:\n",
    "            \n",
    "            if nextNode in gatewayNodesList:\n",
    "                break\n",
    "                \n",
    "            aNodeValue = \\\n",
    "            self.gAdjustedListMap.get(nextNode)  \n",
    "            \n",
    "            if len(aNodeValue) > 0:\n",
    "                pass\n",
    "        \n",
    "        return nextNode\n",
    "    \n",
    "    # cut\n",
    "    # adjusted to\n",
    "    # any 'gatewayNode',\n",
    "    # closest to 'agentNode'\n",
    "    # or 'agentNode',\n",
    "    # or graph's `bottleNeck`\n",
    "    def cutTheRope(self) -> str:\n",
    "        global gatewayNodesList\n",
    "        \n",
    "        gatewayNode = None\n",
    "        adjustedNode = None\n",
    "        \n",
    "        if len(gatewayNodesList) > 0:\n",
    "            #pass\n",
    "            # pick one\n",
    "            # first or random\n",
    "            gatewayNode = gatewayNodesList[0]\n",
    "        \n",
    "        # as test data showed\n",
    "        # `gateWay` `adjusted nodes` (`neighbors`)\n",
    "        # may be in \n",
    "        # `directed graph` or\n",
    "        # it's `reverce`\n",
    "        \n",
    "        ###*** cases ***###\n",
    "        # 'gatewayNode' may (must) be in:\n",
    "        # 'gAdjustedListMap' as node key\n",
    "        # and may be\n",
    "        # 'gAdjustedListMap' as node in adjusted list\n",
    "        \n",
    "        # work with 'gListMapReverse'\n",
    "        # becase \n",
    "        # it contains \n",
    "        # direct `links` from `sinks` / 'gatewayNodes'\n",
    "        aNodeValue = \\\n",
    "        self.gListMapReverse.get(gatewayNode)\n",
    "        \n",
    "        #if len(aNodeValue) > 0:\n",
    "        if aNodeValue:\n",
    "            #pass\n",
    "            # pick one\n",
    "            # first or random\n",
    "            adjustedNode = aNodeValue[0]\n",
    "            # IndexError: pop index out of range\n",
    "            #aNodeValue.pop(adjustedNode)\n",
    "            \n",
    "            del aNodeValue[0:0 + 1:1]\n",
    "        else:\n",
    "            # pick from `edges` directly\n",
    "            # as 'gatewayNode' is `sink`\n",
    "            # and do not have `arcs` / `adjusted nodes`\n",
    "            #[node for node in test_subNetworkGraph_1.gEdges if node[1] == 3 ]\n",
    "            adjustedNode, _ = \\\n",
    "            list(\n",
    "                (hNode, tNode) \n",
    "                for (hNode, tNode) in self.gEdges \n",
    "                if tNode == gatewayNode )[0]\n",
    "            \n",
    "            #self.gEdges.pop((adjustedNode, gatewayNode))\n",
    "                        \n",
    "        # update 'self' inner `state`\n",
    "        # behead lists\n",
    "        \n",
    "        # retrieves the `item` at 'indx' and also removes it from 's'\n",
    "        #gatewayNodesList.pop(gatewayNode)\n",
    "        \n",
    "        ###*** cases ***###\n",
    "        # 'gatewayNode' has `adjusted`\n",
    "        # then\n",
    "        # keep `node`\n",
    "        # or all `adjusted` already served\n",
    "        # then\n",
    "        # discard / remove / delete `node`\n",
    "        if len(aNodeValue) == 0:\n",
    "        #if aNodeValue is None:\n",
    "            gatewayNodesList = gatewayNodesList[1:]\n",
    "        \n",
    "        #if (gatewayNode, adjustedNode) in self.gEdges:\n",
    "            #aNodeValue.pop((gatewayNode, adjustedNode))\n",
    "        #else:\n",
    "            #aNodeValue.pop((adjustedNode, gatewayNode))\n",
    "            \n",
    "        # iterate over `edges` copy   \n",
    "        for itemIndx, (hNode, tNode) in enumerate(self.gEdges[:]):\n",
    "            if (gatewayNode, adjustedNode) == (hNode, tNode) or \\\n",
    "            (gatewayNode, adjustedNode) == (tNode, hNode):\n",
    "                del self.gEdges[itemIndx:itemIndx + 1:1]\n",
    "            \n",
    "        return str(gatewayNode) + ' ' + str(adjustedNode)\n",
    "###*** class subNetworkGraph: end ***### \n",
    "    \n",
    "###*** my code: end ***### \n",
    "# game loop\n",
    "#while 1:\n",
    "while condition:    \n",
    "    # The `index` of the `node` \n",
    "    # on which \n",
    "    # the `Skynet agent` is positioned this `turn`\n",
    "    si = \\\n",
    "    random.choice(range(0, 3 + 1))\n",
    "    #int(input())  \n",
    "\n",
    "    # Write an action using print\n",
    "    # To debug: print(\"Debug messages...\", file=sys.stderr)\n",
    "\n",
    "    # Example: \n",
    "    #'0 1' are \n",
    "    # the `indices` of \n",
    "    # the `nodes` you wish to `sever` the `link` between\n",
    "    #print(\"0 1\")\n",
    "    \n",
    "    ###*** my code: start ***### \n",
    "    counter += 1\n",
    "    condition = counter < turnLimit\n",
    "    ###*** my code: end ***### "
   ]
  },
  {
   "cell_type": "code",
   "execution_count": 7,
   "metadata": {
    "collapsed": false
   },
   "outputs": [
    {
     "data": {
      "text/plain": [
       "[0, 1, 0, 2, 1, 3, 2, 3]"
      ]
     },
     "execution_count": 7,
     "metadata": {},
     "output_type": "execute_result"
    }
   ],
   "source": [
    "[int(elem) for elem in edgesStr.split()]"
   ]
  },
  {
   "cell_type": "code",
   "execution_count": 8,
   "metadata": {
    "collapsed": false
   },
   "outputs": [
    {
     "data": {
      "text/plain": [
       "{'0', '1', '2', '3'}"
      ]
     },
     "execution_count": 8,
     "metadata": {},
     "output_type": "execute_result"
    }
   ],
   "source": [
    "# set\n",
    "edgesNodes_1 = {node for node in edgesStr.split()}\n",
    "edgesNodes_1"
   ]
  },
  {
   "cell_type": "code",
   "execution_count": 27,
   "metadata": {
    "collapsed": false
   },
   "outputs": [
    {
     "data": {
      "text/plain": [
       "<enumerate at 0x2fd7aa8>"
      ]
     },
     "execution_count": 27,
     "metadata": {},
     "output_type": "execute_result"
    }
   ],
   "source": [
    "# traverable once\n",
    "edgesNodesEnum_1 = enumerate(edgesStr.split())\n",
    "edgesNodesEnum_1"
   ]
  },
  {
   "cell_type": "code",
   "execution_count": 12,
   "metadata": {
    "collapsed": false
   },
   "outputs": [
    {
     "data": {
      "text/plain": [
       "[('0', '1'), ('0', '2'), ('1', '3'), ('2', '3')]"
      ]
     },
     "execution_count": 12,
     "metadata": {},
     "output_type": "execute_result"
    }
   ],
   "source": [
    "# list from generators\n",
    "edgesNodesZip_1 = zip(\n",
    "    (node for nodeIndx, node in enumerate(edgesStr.split()) if nodeIndx % 2 == 0),\n",
    "    (node for nodeIndx, node in enumerate(edgesStr.split()) if nodeIndx % 2 != 0)\n",
    ")\n",
    "list((sourceN, sinkN) for (sourceN, sinkN) in edgesNodesZip_1)"
   ]
  },
  {
   "cell_type": "code",
   "execution_count": 28,
   "metadata": {
    "collapsed": false
   },
   "outputs": [
    {
     "data": {
      "text/plain": [
       "[(0, 1), (0, 2), (1, 3), (2, 3)]"
      ]
     },
     "execution_count": 28,
     "metadata": {},
     "output_type": "execute_result"
    }
   ],
   "source": [
    "sourceNodeAccum = None\n",
    "edgesList_1 = []\n",
    "\n",
    "for (nodeIndx, node) in edgesNodesEnum_1:\n",
    "    if nodeIndx % 2 == 0:\n",
    "        sourceNodeAccum = int(node)\n",
    "    else:\n",
    "        edgesList_1.append( (sourceNodeAccum, int(node) ) )\n",
    "\n",
    "edgesList_1        "
   ]
  },
  {
   "cell_type": "code",
   "execution_count": 14,
   "metadata": {
    "collapsed": false
   },
   "outputs": [
    {
     "data": {
      "text/plain": [
       "{0: [1]}"
      ]
     },
     "execution_count": 14,
     "metadata": {},
     "output_type": "execute_result"
    }
   ],
   "source": [
    "test_Map_1 = {}\n",
    "test_Map_1[0] = [1]\n",
    "test_Map_1"
   ]
  },
  {
   "cell_type": "code",
   "execution_count": 38,
   "metadata": {
    "collapsed": false
   },
   "outputs": [
    {
     "data": {
      "text/plain": [
       "[1]"
      ]
     },
     "execution_count": 38,
     "metadata": {},
     "output_type": "execute_result"
    }
   ],
   "source": [
    "node_0_val = test_Map_1.get(0)\n",
    "node_0_val"
   ]
  },
  {
   "cell_type": "code",
   "execution_count": 39,
   "metadata": {
    "collapsed": false
   },
   "outputs": [
    {
     "data": {
      "text/plain": [
       "{0: [1, 2]}"
      ]
     },
     "execution_count": 39,
     "metadata": {},
     "output_type": "execute_result"
    }
   ],
   "source": [
    "node_0_val.append(2)\n",
    "test_Map_1[0] = node_0_val\n",
    "test_Map_1"
   ]
  },
  {
   "cell_type": "code",
   "execution_count": 45,
   "metadata": {
    "collapsed": false
   },
   "outputs": [
    {
     "data": {
      "text/plain": [
       "{}"
      ]
     },
     "execution_count": 45,
     "metadata": {},
     "output_type": "execute_result"
    }
   ],
   "source": [
    "test_Map_1.clear()\n",
    "test_Map_1"
   ]
  },
  {
   "cell_type": "code",
   "execution_count": 31,
   "metadata": {
    "collapsed": false
   },
   "outputs": [
    {
     "data": {
      "text/plain": [
       "[(0, 1), (0, 2), (1, 3), (2, 3)]"
      ]
     },
     "execution_count": 31,
     "metadata": {},
     "output_type": "execute_result"
    }
   ],
   "source": [
    "edgesList"
   ]
  },
  {
   "cell_type": "code",
   "execution_count": 32,
   "metadata": {
    "collapsed": false
   },
   "outputs": [
    {
     "data": {
      "text/plain": [
       "([0, 1, 2, 3],\n",
       " [(0, 1), (0, 2), (1, 3), (2, 3)],\n",
       " {0: [1, 2], 1: [3], 2: [3], 3: []},\n",
       " {0: [], 1: [], 2: [], 3: [1, 2]})"
      ]
     },
     "execution_count": 32,
     "metadata": {},
     "output_type": "execute_result"
    }
   ],
   "source": [
    "test_subNetworkGraph_1 = subNetworkGraph(edgesList)\n",
    "#test_adjList_1 = \n",
    "(test_subNetworkGraph_1.gNodes, test_subNetworkGraph_1.gEdges, \n",
    " test_subNetworkGraph_1.gAdjustedListMap, test_subNetworkGraph_1.gListMapReverse)"
   ]
  },
  {
   "cell_type": "code",
   "execution_count": 26,
   "metadata": {
    "collapsed": false
   },
   "outputs": [
    {
     "data": {
      "text/plain": [
       "{0: [1, 2, 2], 1: [2, 2, 2]}"
      ]
     },
     "execution_count": 26,
     "metadata": {},
     "output_type": "execute_result"
    }
   ],
   "source": [
    "test_subNetworkGraph_1.hashMapUpdate(\n",
    "test_Map_1,\n",
    "    1,\n",
    "    2)\n",
    "test_Map_1"
   ]
  },
  {
   "cell_type": "code",
   "execution_count": 63,
   "metadata": {
    "collapsed": false
   },
   "outputs": [
    {
     "data": {
      "text/plain": [
       "[(1, 3), (2, 3)]"
      ]
     },
     "execution_count": 63,
     "metadata": {},
     "output_type": "execute_result"
    }
   ],
   "source": [
    "[node for node in test_subNetworkGraph_1.gEdges if node[1] == 3 ]"
   ]
  },
  {
   "cell_type": "code",
   "execution_count": 65,
   "metadata": {
    "collapsed": false
   },
   "outputs": [
    {
     "data": {
      "text/plain": [
       "(1, 3)"
      ]
     },
     "execution_count": 65,
     "metadata": {},
     "output_type": "execute_result"
    }
   ],
   "source": [
    "list(node for node in test_subNetworkGraph_1.gEdges if node[1] == 3 )[0]"
   ]
  },
  {
   "cell_type": "code",
   "execution_count": 74,
   "metadata": {
    "collapsed": false
   },
   "outputs": [
    {
     "data": {
      "text/plain": [
       "([0, 1, 2, 3], {0: [1, 2], 1: [3], 2: [3]}, {0, 1, 2, 3})"
      ]
     },
     "execution_count": 74,
     "metadata": {},
     "output_type": "execute_result"
    }
   ],
   "source": [
    "list_gNodesSet_1, gAdjustedListMap_1, gNodesSet_1 = test_subNetworkGraph_1.makeAdjustedList(edgesList)\n",
    "list_gNodesSet_1, gAdjustedListMap_1, gNodesSet_1"
   ]
  },
  {
   "cell_type": "code",
   "execution_count": 77,
   "metadata": {
    "collapsed": false
   },
   "outputs": [
    {
     "data": {
      "text/plain": [
       "[0, 1, 3]"
      ]
     },
     "execution_count": 77,
     "metadata": {},
     "output_type": "execute_result"
    }
   ],
   "source": [
    "del list_gNodesSet_1[2:2 + 1:1]\n",
    "list_gNodesSet_1"
   ]
  },
  {
   "cell_type": "code",
   "execution_count": 76,
   "metadata": {
    "collapsed": false
   },
   "outputs": [
    {
     "data": {
      "text/plain": [
       "[0, 1, 2, 3]"
      ]
     },
     "execution_count": 76,
     "metadata": {},
     "output_type": "execute_result"
    }
   ],
   "source": [
    "list_gNodesSet_copy1 = list_gNodesSet_1[:]"
   ]
  },
  {
   "cell_type": "code",
   "execution_count": 1,
   "metadata": {
    "collapsed": false
   },
   "outputs": [
    {
     "ename": "NameError",
     "evalue": "name 'list_gNodesSet_1' is not defined",
     "output_type": "error",
     "traceback": [
      "\u001b[1;31m---------------------------------------------------------------------------\u001b[0m",
      "\u001b[1;31mNameError\u001b[0m                                 Traceback (most recent call last)",
      "\u001b[1;32m<ipython-input-1-7cd20e409885>\u001b[0m in \u001b[0;36m<module>\u001b[1;34m()\u001b[0m\n\u001b[1;32m----> 1\u001b[1;33m \u001b[0mlist_gNodesSet_1\u001b[0m\u001b[1;33m.\u001b[0m\u001b[0mappend\u001b[0m\u001b[1;33m(\u001b[0m\u001b[1;33m[\u001b[0m\u001b[1;33m]\u001b[0m\u001b[1;33m)\u001b[0m\u001b[1;33m\u001b[0m\u001b[0m\n\u001b[0m\u001b[0;32m      2\u001b[0m \u001b[0mlist_gNodesSet_1\u001b[0m\u001b[1;33m\u001b[0m\u001b[0m\n",
      "\u001b[1;31mNameError\u001b[0m: name 'list_gNodesSet_1' is not defined"
     ]
    }
   ],
   "source": [
    "list_gNodesSet_1.append([])\n",
    "list_gNodesSet_1"
   ]
  },
  {
   "cell_type": "code",
   "execution_count": 78,
   "metadata": {
    "collapsed": false
   },
   "outputs": [
    {
     "data": {
      "text/plain": [
       "[0, 1, 2, 3]"
      ]
     },
     "execution_count": 78,
     "metadata": {},
     "output_type": "execute_result"
    }
   ],
   "source": [
    "list_gNodesSet_copy1"
   ]
  },
  {
   "cell_type": "code",
   "execution_count": 57,
   "metadata": {
    "collapsed": false
   },
   "outputs": [
    {
     "ename": "ValueError",
     "evalue": "4 is not in list",
     "output_type": "error",
     "traceback": [
      "\u001b[1;31m---------------------------------------------------------------------------\u001b[0m",
      "\u001b[1;31mValueError\u001b[0m                                Traceback (most recent call last)",
      "\u001b[1;32m<ipython-input-57-4b70cdfe7a3e>\u001b[0m in \u001b[0;36m<module>\u001b[1;34m()\u001b[0m\n\u001b[1;32m----> 1\u001b[1;33m \u001b[0mlist_gNodesSet_1\u001b[0m\u001b[1;33m.\u001b[0m\u001b[0mindex\u001b[0m\u001b[1;33m(\u001b[0m\u001b[1;36m4\u001b[0m\u001b[1;33m)\u001b[0m\u001b[1;33m\u001b[0m\u001b[0m\n\u001b[0m",
      "\u001b[1;31mValueError\u001b[0m: 4 is not in list"
     ]
    }
   ],
   "source": [
    "list_gNodesSet_1.index(4)"
   ]
  }
 ],
 "metadata": {
  "kernelspec": {
   "display_name": "Python 3",
   "language": "python",
   "name": "python3"
  },
  "language_info": {
   "codemirror_mode": {
    "name": "ipython",
    "version": 3
   },
   "file_extension": ".py",
   "mimetype": "text/x-python",
   "name": "python",
   "nbconvert_exporter": "python",
   "pygments_lexer": "ipython3",
   "version": "3.4.3"
  }
 },
 "nbformat": 4,
 "nbformat_minor": 0
}
